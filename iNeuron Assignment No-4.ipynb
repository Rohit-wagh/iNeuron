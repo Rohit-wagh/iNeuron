{
 "cells": [
  {
   "cell_type": "markdown",
   "metadata": {},
   "source": [
    "# 1.1 Write a Python Program(with class concepts) to find the area of the triangle using the below  formula. "
   ]
  },
  {
   "cell_type": "markdown",
   "metadata": {},
   "source": [
    "## area = (s*(s-a)*(s-b)*(s-c)) ** 0.5 \n",
    "Function to take the length of the sides of triangle from user should be defined in the parent  class and function to calculate the area should be defined in subclass. "
   ]
  },
  {
   "cell_type": "code",
   "execution_count": 105,
   "metadata": {},
   "outputs": [
    {
     "name": "stdout",
     "output_type": "stream",
     "text": [
      "Enter the value of the first side: 20\n",
      "Enter the value of the second side: 30\n",
      "Enter the value of the third side: 40\n",
      "\n",
      "Area : 290.4737509655563\n"
     ]
    }
   ],
   "source": [
    "\n",
    "class poly:\n",
    "    def __init__(self,a,b,c):\n",
    "        self.a = a\n",
    "        self.b = b\n",
    "        self.c = c\n",
    "a = float(input(\"Enter the value of the first side: \"))\n",
    "b = float(input(\"Enter the value of the second side: \"))\n",
    "c = float(input(\"Enter the value of the third side: \"))\n",
    "\n",
    "class triangle(poly):\n",
    "    def __init__(self,*args):\n",
    "        super().__init__(*args)\n",
    "\n",
    "    def get_area(self):\n",
    "        s = (self.a + self.b + self.c) / 2\n",
    "        return (s*(s-a)*(s-b)*(s-c)) ** 0.5        \n",
    "\n",
    "t = triangle(a,b,c)\n",
    "print(\"\\nArea : {}\".format(t.get_area()))"
   ]
  },
  {
   "cell_type": "markdown",
   "metadata": {},
   "source": [
    "# 1.2 Write a function filter_long_words() that takes a list of words and an integer n and returns  the list of words that are longer than n. "
   ]
  },
  {
   "cell_type": "code",
   "execution_count": 25,
   "metadata": {},
   "outputs": [
    {
     "name": "stdout",
     "output_type": "stream",
     "text": [
      "Enter the input list of words: iNeuron is doing such a nice work for teaching in such low cost and really effective way.\n",
      "\n",
      "Enter the length for greater words: 5\n"
     ]
    },
    {
     "data": {
      "text/plain": [
       "['iNeuron', 'teaching', 'really', 'effective']"
      ]
     },
     "execution_count": 25,
     "metadata": {},
     "output_type": "execute_result"
    }
   ],
   "source": [
    "def filter_long_words(lst,n):\n",
    "    return [lst[i] for i in range(len(lst)) if len(lst[i])>n]\n",
    "\n",
    "words=input('Enter the input list of words: ').split()\n",
    "length=int(input(\"\\nEnter the length for greater words: \"))\n",
    "                             \n",
    "filter_long_words(words,length)"
   ]
  },
  {
   "cell_type": "markdown",
   "metadata": {},
   "source": [
    "# 2.1 Write a Python program using a function concept that maps a list of words into a list of integers  representing the lengths of the corresponding words. \n",
    "\n"
   ]
  },
  {
   "cell_type": "code",
   "execution_count": 48,
   "metadata": {
    "scrolled": true
   },
   "outputs": [
    {
     "name": "stdout",
     "output_type": "stream",
     "text": [
      "Enter the input list of words: iNeuron is the best\n"
     ]
    },
    {
     "data": {
      "text/plain": [
       "[7, 2, 3, 4]"
      ]
     },
     "execution_count": 48,
     "metadata": {},
     "output_type": "execute_result"
    }
   ],
   "source": [
    "def return_length_fun(lst):\n",
    "    return [len(lst[i]) for i in range(len(lst))]\n",
    "\n",
    "words=input('Enter the input list of words: ').split()\n",
    "return_length_fun(words)"
   ]
  },
  {
   "cell_type": "markdown",
   "metadata": {},
   "source": [
    "# 2.2 Write a Python function which takes a character (i.e. a string of length 1) and returns True if  it is a vowel, False otherwise. "
   ]
  },
  {
   "cell_type": "code",
   "execution_count": 103,
   "metadata": {},
   "outputs": [
    {
     "name": "stdout",
     "output_type": "stream",
     "text": [
      "enter the word to check vovel or not: E\n"
     ]
    },
    {
     "data": {
      "text/plain": [
       "True"
      ]
     },
     "execution_count": 103,
     "metadata": {},
     "output_type": "execute_result"
    }
   ],
   "source": [
    "def is_vovel(ch):\n",
    "    return ch.lower() in 'aeiou'\n",
    "\n",
    "vovel=input(\"enter the word to check vovel or not: \")\n",
    "is_vovel(vovel)\n"
   ]
  },
  {
   "cell_type": "code",
   "execution_count": null,
   "metadata": {},
   "outputs": [],
   "source": []
  }
 ],
 "metadata": {
  "kernelspec": {
   "display_name": "Python 3",
   "language": "python",
   "name": "python3"
  },
  "language_info": {
   "codemirror_mode": {
    "name": "ipython",
    "version": 3
   },
   "file_extension": ".py",
   "mimetype": "text/x-python",
   "name": "python",
   "nbconvert_exporter": "python",
   "pygments_lexer": "ipython3",
   "version": "3.8.5"
  }
 },
 "nbformat": 4,
 "nbformat_minor": 4
}
